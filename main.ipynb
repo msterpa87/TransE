{
 "cells": [
  {
   "attachments": {},
   "cell_type": "markdown",
   "metadata": {},
   "source": [
    "Write implementation on PyTorch for TransE model (you can use TorchGeometric or DGL library for working with graphs) and train your model on WordNet18RR dataset (you can use loaded dataset from any graph library).\n",
    "\n",
    "As a result, you must provide a link to github (or gitlab) with all the source code.\n",
    "The readability of the code, the presence of comments, type annotations, and the quality of the code as a whole will be taken into account when checking the test case."
   ]
  },
  {
   "attachments": {},
   "cell_type": "markdown",
   "metadata": {},
   "source": [
    "### Imports and helper Functions"
   ]
  },
  {
   "cell_type": "code",
   "execution_count": 1,
   "metadata": {},
   "outputs": [
    {
     "data": {
      "text/plain": [
       "True"
      ]
     },
     "execution_count": 1,
     "metadata": {},
     "output_type": "execute_result"
    }
   ],
   "source": [
    "import os\n",
    "import csv\n",
    "import numpy as np\n",
    "import matplotlib.pyplot as plt\n",
    "from typing import Union, Callable, Optional, Tuple\n",
    "import ray.tune as tune\n",
    "from ray.tune.integration.pytorch_lightning import TuneReportCallback\n",
    "from contextlib import suppress\n",
    "import torch\n",
    "from torch.utils.data import Dataset\n",
    "from torch import nn\n",
    "import torch.nn.functional as F\n",
    "from torch_geometric.datasets import WordNet18RR\n",
    "from torch_geometric.loader import DataLoader\n",
    "import pytorch_lightning as pl\n",
    "from pytorch_lightning.callbacks import EarlyStopping, ModelCheckpoint\n",
    "from pytorch_lightning.loggers import TensorBoardLogger\n",
    "\n",
    "torch.cuda.is_available()"
   ]
  },
  {
   "cell_type": "code",
   "execution_count": 2,
   "metadata": {},
   "outputs": [],
   "source": [
    "# download wordnet dataset, we'll be using the processed file data.pt\n",
    "dataset = WordNet18RR('./WordNet18RR/')"
   ]
  },
  {
   "attachments": {},
   "cell_type": "markdown",
   "metadata": {},
   "source": [
    "### Custom Dataset and DataLoader"
   ]
  },
  {
   "cell_type": "code",
   "execution_count": 20,
   "metadata": {},
   "outputs": [],
   "source": [
    "# create entity2id and relation2id files\n",
    "WORDNET_PATH = \"./WordNet18RR/raw/\"\n",
    "\n",
    "class Edge():\n",
    "    def __init__(self, head, tail, rel) -> None:\n",
    "        self.head = head\n",
    "        self.tail = tail\n",
    "        self.rel = rel\n",
    "\n",
    "    def __str__(self) -> str:\n",
    "        return f\"{self.head} {self.rel} {self.tail}\"\n",
    "\n",
    "def process_lines(lines):\n",
    "    return list(map(lambda s: s.strip('\\n').split('\\t'), lines))\n",
    "\n",
    "def load_edges_from_file(path: str, header: bool=False):\n",
    "    edge_list = list()\n",
    "\n",
    "    lines = open(path).readlines()\n",
    "    lines = process_lines(lines)\n",
    "\n",
    "    edge_list = [Edge(head=head, tail=tail, rel=rel) for head, rel, tail in lines]\n",
    "    \n",
    "    return edge_list\n",
    "\n",
    "def load_ids_dict(path=WORDNET_PATH):\n",
    "    entity2id = process_lines(open(os.path.join(path, \"entity2id.txt\")))\n",
    "    relation2id = process_lines(open(os.path.join(path, \"relation2id.txt\")))\n",
    "\n",
    "    entity2id = dict([(x[0], int(x[1])) for x in entity2id])\n",
    "    relation2id = dict([(x[0], int(x[1])) for x in relation2id])\n",
    "\n",
    "    return entity2id, relation2id\n",
    "\n",
    "train_edge_list = load_edges_from_file(os.path.join(WORDNET_PATH, \"train.txt\"))\n",
    "val_edge_list = load_edges_from_file(os.path.join(WORDNET_PATH, \"valid.txt\"))\n",
    "test_edge_list = load_edges_from_file(os.path.join(WORDNET_PATH, \"test.txt\"))\n",
    "\n",
    "entity_list = list()\n",
    "relation_list = list()\n",
    "\n",
    "for edge_list in [train_edge_list, val_edge_list, test_edge_list]:\n",
    "    entity_list += [x.head for x in edge_list] + [x.tail for x in edge_list]\n",
    "    relation_list += [x.rel for x in edge_list]\n",
    "\n",
    "entity_list = sorted(list(set(entity_list)))\n",
    "entity2id = dict(zip(entity_list, range(len(entity_list))))\n",
    "\n",
    "relation_list = sorted(list(set(relation_list)))\n",
    "relation2id = dict(zip(relation_list, range(len(relation_list))))\n",
    "\n",
    "with open(\"WordNet18RR/raw/entity2id.txt\", \"w\") as f:\n",
    "    f.writelines([f\"{x}\\t{y}\\n\" for x,y in entity2id.items()])\n",
    "\n",
    "with open(\"WordNet18RR/raw/relation2id.txt\", \"w\") as f:\n",
    "    f.writelines([f\"{x}\\t{y}\\n\" for x,y in relation2id.items()])"
   ]
  },
  {
   "cell_type": "code",
   "execution_count": 19,
   "metadata": {},
   "outputs": [],
   "source": [
    "class WordNetDataset(Dataset):\n",
    "    def __init__(self, path: str=\"./WordNet18RR/raw/\", split=\"train\") -> None:\n",
    "        super().__init__()\n",
    "        self.path = path\n",
    "\n",
    "        if split == 'val':\n",
    "            split = 'valid'\n",
    "        self.split = split\n",
    "\n",
    "        edge_list = load_edges_from_file(os.path.join(self.path, f\"{self.split}.txt\"))\n",
    "        entity2id, relation2id = load_ids_dict(path=path)\n",
    "\n",
    "        self.edge_list = torch.tensor([(entity2id[e.head], entity2id[e.tail]) for e in edge_list])\n",
    "        self.relation_list = torch.tensor([relation2id[e.rel] for e in edge_list])\n",
    "    \n",
    "    def __len__(self):\n",
    "        return self.edge_list.shape[0]\n",
    "\n",
    "    def __getitem__(self, index) -> Tuple[int,int]:\n",
    "        return self.edge_list[index], self.relation_list[index]\n",
    "\n",
    "class WordNetDataModule(pl.LightningDataModule):\n",
    "    def __init__(self, path: str=\"./WordNet18RR/raw/\", batch_size=32) -> None:\n",
    "        super().__init__()\n",
    "        self.path = path\n",
    "        self.batch_size = batch_size\n",
    "        self.num_entities = 40943\n",
    "        self.num_relations = 11\n",
    "        self.params = {\"pin_memory\": True, \"batch_size\": batch_size}\n",
    "\n",
    "        print(os.getcwd())\n",
    "\n",
    "    def setup(self, stage: str):\n",
    "        if stage == \"fit\":\n",
    "            self.train_dataset = WordNetDataset(path=self.path, split=\"train\")\n",
    "            self.val_dataset = WordNetDataset(path=self.path, split=\"valid\")\n",
    "        \n",
    "        if stage == \"predict\":\n",
    "            self.test_dataset = WordNetDataset(path=self.path, split=\"test\")\n",
    "    \n",
    "    def train_dataloader(self):\n",
    "        return DataLoader(self.train_dataset, shuffle=True, **self.params)\n",
    "\n",
    "    def val_dataloader(self):\n",
    "        return DataLoader(self.val_dataset, shuffle=False, **self.params)\n",
    "\n",
    "    def predict_dataloader(self):\n",
    "        return DataLoader(self.test_dataset, shuffle=False, **self.params)\n"
   ]
  },
  {
   "attachments": {},
   "cell_type": "markdown",
   "metadata": {},
   "source": [
    "### Lightning Model"
   ]
  },
  {
   "cell_type": "code",
   "execution_count": 5,
   "metadata": {},
   "outputs": [],
   "source": [
    "class TransE(pl.LightningModule):\n",
    "    def __init__(self, margin: int=1, emb_dim: int=50, learning_rate=0.01, p_norm=1) -> None:\n",
    "        \"\"\" Instatiate the entity and relation matrix of the TransE model\n",
    "            https://papers.nips.cc/paper/5071-translating-embeddings-for-modeling-multi-relational-data\n",
    "\n",
    "        Args:\n",
    "            n_entities (int): _description_\n",
    "            n_relations (int): _description_\n",
    "            margin (int, optional): _description_. Defaults to 1.\n",
    "            emb_dim (int, optional): _description_. Defaults to 50.\n",
    "        \"\"\"\n",
    "        super().__init__()\n",
    "        self.margin = margin\n",
    "        self.emb_dim = emb_dim\n",
    "        self.learning_rate = learning_rate\n",
    "        self.p_norm = p_norm\n",
    "\n",
    "        # dataset specific values\n",
    "        self.num_entities = 40943\n",
    "        self.num_relations = 11\n",
    "\n",
    "        # initialize embeddings\n",
    "        self.entity_mat = nn.Embedding(self.num_entities, emb_dim).to(self.device)\n",
    "        self.relation_mat = nn.Embedding(self.num_relations, emb_dim).to(self.device)\n",
    "\n",
    "        with torch.no_grad():\n",
    "            # initialize with random uniform\n",
    "            val = 6/np.sqrt(emb_dim)\n",
    "            self.entity_mat.weight.uniform_(-val, val)\n",
    "            self.relation_mat.weight.uniform_(-val, val)\n",
    "\n",
    "            # normalize entity and relation embeddings\n",
    "            self.entity_mat.weight.copy_(F.normalize(self.entity_mat.weight, p=self.p_norm, dim=-1))\n",
    "            self.relation_mat.weight.copy_(F.normalize(self.relation_mat.weight, p=self.p_norm, dim=-1))\n",
    "\n",
    "    def corrupt_edge_list(self, edge_list: torch.Tensor):\n",
    "        \"\"\" sample either the head or tail of x from range(n) \"\"\"\n",
    "        n = edge_list.shape[0]\n",
    "        entity_list = range(self.num_entities)\n",
    "\n",
    "        # sample random entity replacements\n",
    "        r1 = np.random.choice(entity_list, size=n)\n",
    "        r2 = np.random.choice(entity_list, size=n)\n",
    "\n",
    "        corrupted_heads = edge_list.detach().clone()\n",
    "        corrupted_tails = edge_list.detach().clone()\n",
    "\n",
    "        corrupted_heads[:,0] = torch.from_numpy(r1)\n",
    "        corrupted_tails[:,1] = torch.from_numpy(r2)\n",
    "                \n",
    "        return corrupted_heads, corrupted_tails\n",
    "    \n",
    "    def embedding_loss(self, batch):\n",
    "        edge_list, labels = batch\n",
    "        \n",
    "        loss = torch.zeros(1).to(self.device)\n",
    "\n",
    "        #edge_list_cor = self.corrupt_edge_list(edge_list)\n",
    "        corrupted_heads, corrupted_tails = self.corrupt_edge_list(edge_list)\n",
    "        \n",
    "        # take embedding values for entities and relations\n",
    "        t1 = self.entity_mat.weight[edge_list.repeat(2,1)]\n",
    "        t2 = torch.vstack([self.entity_mat.weight[corrupted_heads],\n",
    "                           self.entity_mat.weight[corrupted_tails]])\n",
    "        rel = self.relation_mat.weight[labels].repeat(2,1)\n",
    "\n",
    "        # normalize entity (maybe unnecessary here)\n",
    "        #t1 = F.normalize(t1, p=self.p_norm, dim=-1)\n",
    "        #t2 = F.normalize(t2, p=self.p_norm, dim=-1)\n",
    "\n",
    "        # compute the loss value\n",
    "        pos = torch.norm(t1[:,0,:] + rel - t1[:,1,:], dim=-1, p=self.p_norm)\n",
    "        neg = torch.norm(t2[:,0,:] + rel - t2[:,1,:], dim=-1, p=self.p_norm)\n",
    "        loss = torch.clip((self.margin + pos - neg), min=0).sum()\n",
    "\n",
    "        return loss\n",
    "\n",
    "    def evaluation_protocol(self, batch):\n",
    "        edge_list, labels = batch\n",
    "        batch_size = edge_list.shape[0]\n",
    "\n",
    "        # combine heads, tails and labels\n",
    "        triplets = torch.hstack([edge_list, labels.reshape(-1,1)])\n",
    "\n",
    "        # repeat all triplets for n_entities times\n",
    "        triplets = triplets[:,np.newaxis,:].repeat(1,self.num_entities,1)\n",
    "\n",
    "        true_pos_total = list()\n",
    "        rank_pos_list = list()\n",
    "\n",
    "        # repeat corruption for both head and tail\n",
    "        for pos in [0,1]:\n",
    "            x = triplets.detach().clone()\n",
    "            \n",
    "            # replace all heads/tails with list of all possible entities\n",
    "            x[:,:,pos] = torch.tensor(range(self.num_entities))[np.newaxis,:].repeat(batch_size,1).to(self.device)\n",
    "\n",
    "            # triplets are arranged as (head, tail, label)\n",
    "            head = self.entity_mat.weight[x[:,:,0]]\n",
    "            tail = self.entity_mat.weight[x[:,:,1]]\n",
    "            rel = self.relation_mat.weight[x[:,:,2]]\n",
    "\n",
    "            # compute distance between head + label and tail\n",
    "            norms = torch.norm(head + rel - tail, dim=-1, p=self.p_norm)\n",
    "\n",
    "            # get index positions of sorted norms for each triplet\n",
    "            rankings = torch.vstack([torch.argsort(x) for x in norms.unbind(dim=0)])\n",
    "\n",
    "            # find position of heads within the rankings\n",
    "            torch.save(rankings, \"rankings.pt\")\n",
    "            torch.save(edge_list, \"edge_list.pt\")\n",
    "            rank_pos = torch.where(rankings == edge_list[:,pos].reshape(-1,1))[1]\n",
    "\n",
    "            rank_pos_list.append(rank_pos)\n",
    "            true_pos_total.append(rank_pos < 10)\n",
    "\n",
    "        mean_rank = torch.vstack(rank_pos_list).float().mean()\n",
    "        hits_at_10 = torch.vstack(true_pos_total).float().mean()*100\n",
    "\n",
    "        return torch.vstack(rank_pos_list).flatten()\n",
    "\n",
    "    def training_step(self, batch, batch_idx):\n",
    "        return self.embedding_loss(batch)\n",
    "\n",
    "    def validation_step(self, batch, batch_idx):\n",
    "        loss = self.embedding_loss(batch)\n",
    "        batch_rankings = self.evaluation_protocol(batch)\n",
    "        self.log_dict({\"val_loss\": loss}, prog_bar=True, on_epoch=True)\n",
    "        return {\"val_loss\": loss, \"batch_rankings\": batch_rankings}\n",
    "    \n",
    "    def predict_step(self, batch, batch_idx):\n",
    "        mean_rank, hits_at_10 = self.evaluation_protocol(batch)\n",
    "        return mean_rank, hits_at_10\n",
    "\n",
    "    def on_train_epoch_end(self):\n",
    "        with torch.no_grad():\n",
    "             # keep entities embeddings normalized\n",
    "            self.entity_mat.weight.copy_(F.normalize(self.entity_mat.weight, p=2, dim=1))\n",
    "    \n",
    "    def compute_epoch_metrics(self, outputs, stage):\n",
    "        epoch_rankings = torch.hstack([x['batch_rankings'] for x in outputs])\n",
    "        mean_rank = epoch_rankings.float().float().mean()\n",
    "        hit_at_10 = (epoch_rankings < 10).float().mean()*100\n",
    "        self.log_dict({f\"{stage}_mean_rank\": mean_rank, f\"{stage}_hits@10\": hit_at_10},\n",
    "                      prog_bar=True, on_epoch=True)\n",
    "    \n",
    "    def validation_epoch_end(self, outputs):\n",
    "        self.compute_epoch_metrics(outputs, stage=\"val\")\n",
    "\n",
    "    def predict_epoch_end(self, outputs):\n",
    "        self.compute_epoch_metrics(outputs, stage=\"predict\")\n",
    "\n",
    "    def configure_optimizers(self):\n",
    "        return torch.optim.Adam(self.parameters(), lr=self.learning_rate)\n",
    "        "
   ]
  },
  {
   "cell_type": "code",
   "execution_count": 72,
   "metadata": {},
   "outputs": [
    {
     "name": "stderr",
     "output_type": "stream",
     "text": [
      "GPU available: True (cuda), used: True\n",
      "TPU available: False, using: 0 TPU cores\n",
      "IPU available: False, using: 0 IPUs\n",
      "HPU available: False, using: 0 HPUs\n"
     ]
    },
    {
     "name": "stdout",
     "output_type": "stream",
     "text": [
      "Epoch 113:  20%|██        | 571/2809 [42:35<2:46:56,  4.48s/it, loss=3.83, v_num=23, val_loss=16.60, val_mean_rank=2.57e+3, val_hits@10=38.50]\n"
     ]
    },
    {
     "name": "stderr",
     "output_type": "stream",
     "text": [
      "LOCAL_RANK: 0 - CUDA_VISIBLE_DEVICES: [0]\n",
      "\n",
      "  | Name         | Type      | Params\n",
      "-------------------------------------------\n",
      "0 | entity_mat   | Embedding | 818 K \n",
      "1 | relation_mat | Embedding | 220   \n",
      "-------------------------------------------\n",
      "819 K     Trainable params\n",
      "0         Non-trainable params\n",
      "819 K     Total params\n",
      "3.276     Total estimated model params size (MB)\n"
     ]
    },
    {
     "name": "stdout",
     "output_type": "stream",
     "text": [
      "Epoch 15:  84%|████████▎ | 2350/2809 [00:31<00:06, 75.74it/s, loss=8.7, v_num=25, val_loss=17.70, val_mean_rank=4.35e+3, val_hits@10=21.50] "
     ]
    }
   ],
   "source": [
    "emb_dim = 20\n",
    "lr = 0.01\n",
    "margin = 1\n",
    "max_epochs = 1000\n",
    "top_k_cp = 3\n",
    "p_norm = 2   # norm either L1 or L2\n",
    "\n",
    "# instantiated model and data module\n",
    "model = TransE(emb_dim=emb_dim,\n",
    "               learning_rate=lr,\n",
    "               margin=margin,\n",
    "               p_norm=p_norm)\n",
    "\n",
    "dm = WordNetDataModule(batch_size=32)\n",
    "\n",
    "dir_path = f\"checkpoints/emb_dim={emb_dim}-lr={lr}-margin={margin}-p_norm={p_norm}\"\n",
    "\n",
    "# using mean predicted rank on validation set as described in section 4.2\n",
    "early_stop_rank = EarlyStopping(monitor=\"val_mean_rank\",\n",
    "                                min_delta=0.5,\n",
    "                                patience=10,\n",
    "                                verbose=False,\n",
    "                                mode=\"min\")\n",
    "\n",
    "# save best models based on mean rank on validation set\n",
    "checkpoint_callback = ModelCheckpoint(save_top_k=top_k_cp,\n",
    "                                      monitor=\"val_mean_rank\",\n",
    "                                      dirpath=dir_path,\n",
    "                                      filename=\"transe-wordnet-{epoch}-{val_mean_rank:.0f}-{val_hits@10:.1f}\")\n",
    "\n",
    "logger = TensorBoardLogger('tb_logs', name='TransE')\n",
    "\n",
    "trainer = pl.Trainer(max_epochs=max_epochs,\n",
    "                     accelerator='gpu',\n",
    "                     callbacks=[checkpoint_callback, early_stop_rank],\n",
    "                     logger=logger)\n",
    "\n",
    "try:\n",
    "    # resume from best model if checkpoint is available\n",
    "    ckpt_path = os.path.join(dir_path, os.listdir(dir_path)[-1])\n",
    "except:\n",
    "    ckpt_path = None\n",
    "\n",
    "trainer.fit(model, datamodule=dm, ckpt_path=ckpt_path)"
   ]
  },
  {
   "cell_type": "code",
   "execution_count": 16,
   "metadata": {},
   "outputs": [],
   "source": [
    "def train_transe(config,\n",
    "                 max_epochs=100,\n",
    "                 accelerator='gpu',\n",
    "                 num_best_ckpt=3,\n",
    "                 patience=10,\n",
    "                 min_delta=0.5,\n",
    "                 main_path='./'):\n",
    "    \n",
    "    model = TransE(emb_dim=config['emb_dim'],\n",
    "                learning_rate=config['lr'],\n",
    "                margin=config['margin'],\n",
    "                p_norm=config['p_norm'])\n",
    "\n",
    "    dm = WordNetDataModule(batch_size=config['batch_size'], path=os.path.join(main_path, \"WordNet18RR/raw\"))\n",
    "\n",
    "    dir_path = f\"checkpoints/emb_dim={config['emb_dim']}-lr={config['lr']}-margin={config['margin']}-p_norm={config['p_norm']}\"\n",
    "    dir_path = os.path.join(main_path, dir_path)\n",
    "\n",
    "    # using mean predicted rank on validation set as described in section 4.2\n",
    "    early_stop_rank = EarlyStopping(monitor=\"val_mean_rank\",\n",
    "                                    min_delta=min_delta,\n",
    "                                    patience=patience,\n",
    "                                    verbose=False,\n",
    "                                    mode=\"min\")\n",
    "\n",
    "    # save best models based on mean rank on validation set\n",
    "    checkpoint_callback = ModelCheckpoint(save_top_k=num_best_ckpt,\n",
    "                                        monitor=\"val_mean_rank\",\n",
    "                                        dirpath=dir_path,\n",
    "                                        filename=\"transe-wordnet-{epoch}-{val_mean_rank:.0f}-{val_hits@10:.1f}\")\n",
    "\n",
    "    metrics = {\"loss\": \"val_loss\", \"mean_rank\": \"val_mean_rank\"}\n",
    "    tuning_callback = TuneReportCallback(metrics, on=\"validation_end\")\n",
    "\n",
    "    logger = TensorBoardLogger('tb_logs', name='TransE')\n",
    "\n",
    "    trainer = pl.Trainer(max_epochs=max_epochs,\n",
    "                        accelerator=accelerator,\n",
    "                        callbacks=[checkpoint_callback, early_stop_rank, tuning_callback],\n",
    "                        logger=logger)\n",
    "\n",
    "    try:\n",
    "        # resume from best model if checkpoint is available\n",
    "        ckpt_path = os.path.join(dir_path, os.listdir(dir_path)[-1])\n",
    "    except:\n",
    "        ckpt_path = None\n",
    "\n",
    "    trainer.fit(model, datamodule=dm, ckpt_path=ckpt_path)\n"
   ]
  },
  {
   "cell_type": "code",
   "execution_count": 21,
   "metadata": {},
   "outputs": [
    {
     "name": "stderr",
     "output_type": "stream",
     "text": [
      "GPU available: True (cuda), used: True\n",
      "TPU available: False, using: 0 TPU cores\n",
      "IPU available: False, using: 0 IPUs\n",
      "HPU available: False, using: 0 HPUs\n",
      "LOCAL_RANK: 0 - CUDA_VISIBLE_DEVICES: [0]\n",
      "\n",
      "  | Name         | Type      | Params\n",
      "-------------------------------------------\n",
      "0 | entity_mat   | Embedding | 818 K \n",
      "1 | relation_mat | Embedding | 220   \n",
      "-------------------------------------------\n",
      "819 K     Trainable params\n",
      "0         Non-trainable params\n",
      "819 K     Total params\n",
      "3.276     Total estimated model params size (MB)\n"
     ]
    },
    {
     "name": "stdout",
     "output_type": "stream",
     "text": [
      "Sanity Checking DataLoader 0: 100%|██████████| 2/2 [00:00<00:00,  9.76it/s]"
     ]
    },
    {
     "name": "stderr",
     "output_type": "stream",
     "text": [
      "C:\\Users\\Uni\\AppData\\Roaming\\Python\\Python39\\site-packages\\pytorch_lightning\\trainer\\connectors\\data_connector.py:224: PossibleUserWarning: The dataloader, val_dataloader 0, does not have many workers which may be a bottleneck. Consider increasing the value of the `num_workers` argument` (try 6 which is the number of cpus on this machine) in the `DataLoader` init to improve performance.\n",
      "  rank_zero_warn(\n"
     ]
    },
    {
     "name": "stdout",
     "output_type": "stream",
     "text": [
      "                                                                           "
     ]
    },
    {
     "name": "stderr",
     "output_type": "stream",
     "text": [
      "C:\\Users\\Uni\\AppData\\Roaming\\Python\\Python39\\site-packages\\pytorch_lightning\\trainer\\connectors\\data_connector.py:224: PossibleUserWarning: The dataloader, train_dataloader, does not have many workers which may be a bottleneck. Consider increasing the value of the `num_workers` argument` (try 6 which is the number of cpus on this machine) in the `DataLoader` init to improve performance.\n",
      "  rank_zero_warn(\n"
     ]
    },
    {
     "name": "stdout",
     "output_type": "stream",
     "text": [
      "Epoch 0:  24%|██▍       | 684/2809 [00:07<00:24, 88.45it/s, loss=113, v_num=26]"
     ]
    },
    {
     "name": "stderr",
     "output_type": "stream",
     "text": [
      "C:\\Users\\Uni\\AppData\\Roaming\\Python\\Python39\\site-packages\\pytorch_lightning\\trainer\\call.py:48: UserWarning: Detected KeyboardInterrupt, attempting graceful shutdown...\n",
      "  rank_zero_warn(\"Detected KeyboardInterrupt, attempting graceful shutdown...\")\n"
     ]
    }
   ],
   "source": [
    "single_train_config = {\n",
    "    'batch_size': 32,\n",
    "    'lr': 0.01,\n",
    "    'emb_dim': 20,\n",
    "    'p_norm': 2,\n",
    "    'margin': 2\n",
    "}\n",
    "\n",
    "train_transe(config=single_train_config)"
   ]
  },
  {
   "cell_type": "code",
   "execution_count": 23,
   "metadata": {},
   "outputs": [
    {
     "ename": "TypeError",
     "evalue": "run() got an unexpected keyword argument 'progress_bar_refresh_rate'",
     "output_type": "error",
     "traceback": [
      "\u001b[1;31m---------------------------------------------------------------------------\u001b[0m",
      "\u001b[1;31mTypeError\u001b[0m                                 Traceback (most recent call last)",
      "Cell \u001b[1;32mIn[23], line 9\u001b[0m\n\u001b[0;32m      1\u001b[0m config \u001b[39m=\u001b[39m {\n\u001b[0;32m      2\u001b[0m     \u001b[39m\"\u001b[39m\u001b[39mbatch_size\u001b[39m\u001b[39m\"\u001b[39m: tune\u001b[39m.\u001b[39mchoice([\u001b[39m32\u001b[39m]),\n\u001b[0;32m      3\u001b[0m     \u001b[39m\"\u001b[39m\u001b[39mlr\u001b[39m\u001b[39m\"\u001b[39m: tune\u001b[39m.\u001b[39mchoice([\u001b[39m0.1\u001b[39m, \u001b[39m0.01\u001b[39m, \u001b[39m0.001\u001b[39m]),\n\u001b[1;32m   (...)\u001b[0m\n\u001b[0;32m      6\u001b[0m     \u001b[39m\"\u001b[39m\u001b[39mmargin\u001b[39m\u001b[39m\"\u001b[39m: tune\u001b[39m.\u001b[39mchoice([\u001b[39m1\u001b[39m, \u001b[39m2\u001b[39m, \u001b[39m10\u001b[39m]),\n\u001b[0;32m      7\u001b[0m }\n\u001b[1;32m----> 9\u001b[0m analysis \u001b[39m=\u001b[39m tune\u001b[39m.\u001b[39;49mrun(\n\u001b[0;32m     10\u001b[0m     tune\u001b[39m.\u001b[39;49mwith_parameters(train_transe, main_path\u001b[39m=\u001b[39;49mos\u001b[39m.\u001b[39;49mgetcwd()),\n\u001b[0;32m     11\u001b[0m     config\u001b[39m=\u001b[39;49mconfig,\n\u001b[0;32m     12\u001b[0m     verbose\u001b[39m=\u001b[39;49m\u001b[39m3\u001b[39;49m,\n\u001b[0;32m     13\u001b[0m     progress_bar_refresh_rate\u001b[39m=\u001b[39;49m\u001b[39m0\u001b[39;49m\n\u001b[0;32m     14\u001b[0m )\n",
      "\u001b[1;31mTypeError\u001b[0m: run() got an unexpected keyword argument 'progress_bar_refresh_rate'"
     ]
    }
   ],
   "source": [
    "config = {\n",
    "    \"batch_size\": tune.choice([32]),\n",
    "    \"lr\": tune.choice([0.1, 0.01, 0.001]),\n",
    "    \"emb_dim\": tune.choice([20, 40]),\n",
    "    \"p_norm\": tune.choice([1, 2]),\n",
    "    \"margin\": tune.choice([1, 2, 10]),\n",
    "}\n",
    "\n",
    "analysis = tune.run(\n",
    "    tune.with_parameters(train_transe, main_path=os.getcwd()),\n",
    "    config=config,\n",
    "    verbose=3\n",
    ")"
   ]
  },
  {
   "cell_type": "code",
   "execution_count": 47,
   "metadata": {},
   "outputs": [
    {
     "name": "stderr",
     "output_type": "stream",
     "text": [
      "Restoring states from the checkpoint path at checkpoints/emb_dim=20-lr=0.01-margin=1-p_norm=2\\transe-wordnet-epoch=0-val_mean_rank=20402-val_hits@10=0.0.ckpt\n",
      "LOCAL_RANK: 0 - CUDA_VISIBLE_DEVICES: [0]\n",
      "Loaded model weights from checkpoint at checkpoints/emb_dim=20-lr=0.01-margin=1-p_norm=2\\transe-wordnet-epoch=0-val_mean_rank=20402-val_hits@10=0.0.ckpt\n",
      "C:\\Users\\Uni\\AppData\\Roaming\\Python\\Python39\\site-packages\\pytorch_lightning\\trainer\\connectors\\data_connector.py:224: PossibleUserWarning: The dataloader, predict_dataloader 0, does not have many workers which may be a bottleneck. Consider increasing the value of the `num_workers` argument` (try 6 which is the number of cpus on this machine) in the `DataLoader` init to improve performance.\n",
      "  rank_zero_warn(\n"
     ]
    },
    {
     "name": "stdout",
     "output_type": "stream",
     "text": [
      "Predicting DataLoader 0: 100%|██████████| 98/98 [00:06<00:00, 14.84it/s]\n",
      "test_mean_rank=20634, test_hits@10=0.03\n"
     ]
    }
   ],
   "source": [
    "pred = trainer.predict(model, datamodule=dm, ckpt_path=ckpt_path)\n",
    "test_mean_rank, test_hits_at_10 = torch.tensor(pred).mean(0)\n",
    "print(\"\\n\")\n",
    "print(f\"test_mean_rank={test_mean_rank:.0f}, test_hits@10={test_hits_at_10:.2f}%\")"
   ]
  },
  {
   "cell_type": "code",
   "execution_count": null,
   "metadata": {},
   "outputs": [],
   "source": []
  },
  {
   "cell_type": "code",
   "execution_count": null,
   "metadata": {},
   "outputs": [],
   "source": []
  }
 ],
 "metadata": {
  "kernelspec": {
   "display_name": "Python 3",
   "language": "python",
   "name": "python3"
  },
  "language_info": {
   "codemirror_mode": {
    "name": "ipython",
    "version": 3
   },
   "file_extension": ".py",
   "mimetype": "text/x-python",
   "name": "python",
   "nbconvert_exporter": "python",
   "pygments_lexer": "ipython3",
   "version": "3.9.7"
  },
  "orig_nbformat": 4
 },
 "nbformat": 4,
 "nbformat_minor": 2
}
