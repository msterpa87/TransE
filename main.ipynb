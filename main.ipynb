{
 "cells": [
  {
   "attachments": {},
   "cell_type": "markdown",
   "metadata": {},
   "source": [
    "Write implementation on PyTorch for TransE model (you can use TorchGeometric or DGL library for working with graphs) and train your model on WordNet18RR dataset (you can use loaded dataset from any graph library).\n",
    "\n",
    "As a result, you must provide a link to github (or gitlab) with all the source code.\n",
    "The readability of the code, the presence of comments, type annotations, and the quality of the code as a whole will be taken into account when checking the test case."
   ]
  },
  {
   "attachments": {},
   "cell_type": "markdown",
   "metadata": {},
   "source": [
    "### Imports and helper Functions"
   ]
  },
  {
   "cell_type": "code",
   "execution_count": 1,
   "metadata": {},
   "outputs": [
    {
     "data": {
      "text/plain": [
       "True"
      ]
     },
     "execution_count": 1,
     "metadata": {},
     "output_type": "execute_result"
    }
   ],
   "source": [
    "import os\n",
    "import csv\n",
    "import numpy as np\n",
    "import matplotlib.pyplot as plt\n",
    "from typing import Union, Callable, Optional, Tuple\n",
    "from contextlib import suppress\n",
    "import torch\n",
    "from torch.utils.data import Dataset\n",
    "from torch import nn\n",
    "import torch.nn.functional as F\n",
    "from torch_geometric.datasets import WordNet18RR\n",
    "from torch_geometric.loader import DataLoader\n",
    "import pytorch_lightning as pl\n",
    "from pytorch_lightning.callbacks import EarlyStopping, ModelCheckpoint\n",
    "from pytorch_lightning.loggers import TensorBoardLogger\n",
    "\n",
    "torch.cuda.is_available()"
   ]
  },
  {
   "cell_type": "code",
   "execution_count": 2,
   "metadata": {},
   "outputs": [],
   "source": [
    "# download wordnet dataset, we'll be using the processed file data.pt\n",
    "dataset = WordNet18RR('./WordNet18RR/')"
   ]
  },
  {
   "attachments": {},
   "cell_type": "markdown",
   "metadata": {},
   "source": [
    "### Custom Dataset and DataLoader"
   ]
  },
  {
   "cell_type": "code",
   "execution_count": 3,
   "metadata": {},
   "outputs": [],
   "source": [
    "# create entity2id and relation2id files\n",
    "WORDNET_PATH = \"./WordNet18RR/raw/\"\n",
    "\n",
    "class Edge():\n",
    "    def __init__(self, head, tail, rel) -> None:\n",
    "        self.head = head\n",
    "        self.tail = tail\n",
    "        self.rel = rel\n",
    "\n",
    "    def __str__(self) -> str:\n",
    "        return f\"{self.head} {self.rel} {self.tail}\"\n",
    "\n",
    "def process_lines(lines):\n",
    "    return list(map(lambda s: s.strip('\\n').split('\\t'), lines))\n",
    "\n",
    "def load_edges_from_file(path: str, header: bool=False):\n",
    "    edge_list = list()\n",
    "\n",
    "    lines = open(path).readlines()\n",
    "    lines = process_lines(lines)\n",
    "\n",
    "    edge_list = [Edge(head=head, tail=tail, rel=rel) for head, rel, tail in lines]\n",
    "    \n",
    "    return edge_list\n",
    "\n",
    "def load_ids_dict(path=WORDNET_PATH):\n",
    "    entity2id = process_lines(open(os.path.join(path, \"entity2id.txt\")))\n",
    "    relation2id = process_lines(open(os.path.join(path, \"relation2id.txt\")))\n",
    "\n",
    "    entity2id = dict([(x[0], int(x[1])) for x in entity2id])\n",
    "    relation2id = dict([(x[0], int(x[1])) for x in relation2id])\n",
    "\n",
    "    return entity2id, relation2id\n",
    "\n",
    "train_edge_list = load_edges_from_file(os.path.join(WORDNET_PATH, \"train.txt\"))\n",
    "val_edge_list = load_edges_from_file(os.path.join(WORDNET_PATH, \"valid.txt\"))\n",
    "test_edge_list = load_edges_from_file(os.path.join(WORDNET_PATH, \"test.txt\"))\n",
    "\n",
    "entity_list = list()\n",
    "relation_list = list()\n",
    "\n",
    "for edge_list in [train_edge_list, val_edge_list, test_edge_list]:\n",
    "    entity_list += [x.head for x in edge_list] + [x.tail for x in edge_list]\n",
    "    relation_list += [x.rel for x in edge_list]\n",
    "\n",
    "entity_list = sorted(list(set(entity_list)))\n",
    "entity2id = dict(zip(entity_list, range(len(entity_list))))\n",
    "\n",
    "relation_list = sorted(list(set(relation_list)))\n",
    "relation2id = dict(zip(relation_list, range(len(relation_list))))\n",
    "\n",
    "with open(\"WordNet18RR/raw/entity2id.txt\", \"w\") as f:\n",
    "    f.writelines([f\"{x}\\t{y}\\n\" for x,y in entity2id.items()])\n",
    "\n",
    "with open(\"WordNet18RR/raw/relation2id.txt\", \"w\") as f:\n",
    "    f.writelines([f\"{x}\\t{y}\\n\" for x,y in relation2id.items()])"
   ]
  },
  {
   "cell_type": "code",
   "execution_count": 4,
   "metadata": {},
   "outputs": [],
   "source": [
    "class WordNetDataset(Dataset):\n",
    "    def __init__(self, path: str=\"./WordNet18RR/raw/\", split=\"train\") -> None:\n",
    "        super().__init__()\n",
    "        self.path = path\n",
    "\n",
    "        if split == 'val':\n",
    "            split = 'valid'\n",
    "        self.split = split\n",
    "\n",
    "        edge_list = load_edges_from_file(os.path.join(self.path, f\"{self.split}.txt\"))\n",
    "        entity2id, relation2id = load_ids_dict(path=path)\n",
    "\n",
    "        self.edge_list = torch.tensor([(entity2id[e.head], entity2id[e.tail]) for e in edge_list])\n",
    "        self.relation_list = torch.tensor([relation2id[e.rel] for e in edge_list])\n",
    "    \n",
    "    def __len__(self):\n",
    "        return self.edge_list.shape[0]\n",
    "\n",
    "    def __getitem__(self, index) -> Tuple[int,int]:\n",
    "        return self.edge_list[index], self.relation_list[index]\n",
    "\n",
    "class WordNetDataModule(pl.LightningDataModule):\n",
    "    def __init__(self, path: str=\"./WordNet18RR/raw/\", batch_size=32) -> None:\n",
    "        super().__init__()\n",
    "        self.path = path\n",
    "        self.batch_size = batch_size\n",
    "        self.num_entities = 40943\n",
    "        self.num_relations = 11\n",
    "        self.params = {\"pin_memory\": True, \"batch_size\": batch_size}\n",
    "\n",
    "        print(os.getcwd())\n",
    "\n",
    "    def setup(self, stage: str):\n",
    "        if stage == \"fit\":\n",
    "            self.train_dataset = WordNetDataset(path=self.path, split=\"train\")\n",
    "            self.val_dataset = WordNetDataset(path=self.path, split=\"valid\")\n",
    "        \n",
    "        if stage == \"predict\":\n",
    "            self.test_dataset = WordNetDataset(path=self.path, split=\"test\")\n",
    "    \n",
    "    def train_dataloader(self):\n",
    "        return DataLoader(self.train_dataset, shuffle=True, **self.params)\n",
    "\n",
    "    def val_dataloader(self):\n",
    "        return DataLoader(self.val_dataset, shuffle=False, **self.params)\n",
    "\n",
    "    def predict_dataloader(self):\n",
    "        return DataLoader(self.test_dataset, shuffle=False, **self.params)\n"
   ]
  },
  {
   "attachments": {},
   "cell_type": "markdown",
   "metadata": {},
   "source": [
    "### Lightning Model"
   ]
  },
  {
   "cell_type": "code",
   "execution_count": 5,
   "metadata": {},
   "outputs": [],
   "source": [
    "class TransE(pl.LightningModule):\n",
    "    def __init__(self, margin: int=1, emb_dim: int=50, learning_rate=0.01, p_norm=1) -> None:\n",
    "        \"\"\" Instatiate the entity and relation matrix of the TransE model\n",
    "            https://papers.nips.cc/paper/5071-translating-embeddings-for-modeling-multi-relational-data\n",
    "\n",
    "        Args:\n",
    "            n_entities (int): _description_\n",
    "            n_relations (int): _description_\n",
    "            margin (int, optional): _description_. Defaults to 1.\n",
    "            emb_dim (int, optional): _description_. Defaults to 50.\n",
    "        \"\"\"\n",
    "        super().__init__()\n",
    "        self.margin = margin\n",
    "        self.emb_dim = emb_dim\n",
    "        self.learning_rate = learning_rate\n",
    "        self.p_norm = p_norm\n",
    "\n",
    "        # dataset specific values\n",
    "        self.num_entities = 40943\n",
    "        self.num_relations = 11\n",
    "\n",
    "        # initialize embeddings\n",
    "        self.entity_mat = nn.Embedding(self.num_entities, emb_dim).to(self.device)\n",
    "        self.relation_mat = nn.Embedding(self.num_relations, emb_dim).to(self.device)\n",
    "\n",
    "        with torch.no_grad():\n",
    "            # initialize with random uniform\n",
    "            val = 6/np.sqrt(emb_dim)\n",
    "            self.entity_mat.weight.uniform_(-val, val)\n",
    "            self.relation_mat.weight.uniform_(-val, val)\n",
    "\n",
    "            # normalize entity and relation embeddings\n",
    "            self.entity_mat.weight.copy_(F.normalize(self.entity_mat.weight, p=self.p_norm, dim=-1))\n",
    "            self.relation_mat.weight.copy_(F.normalize(self.relation_mat.weight, p=self.p_norm, dim=-1))\n",
    "\n",
    "    def corrupt_edge_list(self, edge_list: torch.Tensor):\n",
    "        \"\"\" sample either the head or tail of x from range(n) \"\"\"\n",
    "        n = edge_list.shape[0]\n",
    "        entity_list = range(self.num_entities)\n",
    "\n",
    "        # sample random entity replacements\n",
    "        r1 = np.random.choice(entity_list, size=n)\n",
    "        r2 = np.random.choice(entity_list, size=n)\n",
    "\n",
    "        corrupted_heads = edge_list.detach().clone()\n",
    "        corrupted_tails = edge_list.detach().clone()\n",
    "\n",
    "        corrupted_heads[:,0] = torch.from_numpy(r1)\n",
    "        corrupted_tails[:,1] = torch.from_numpy(r2)\n",
    "                \n",
    "        return corrupted_heads, corrupted_tails\n",
    "    \n",
    "    def embedding_loss(self, batch):\n",
    "        edge_list, labels = batch\n",
    "        \n",
    "        loss = torch.zeros(1).to(self.device)\n",
    "\n",
    "        #edge_list_cor = self.corrupt_edge_list(edge_list)\n",
    "        corrupted_heads, corrupted_tails = self.corrupt_edge_list(edge_list)\n",
    "        \n",
    "        # take embedding values for entities and relations\n",
    "        t1 = self.entity_mat.weight[edge_list.repeat(2,1)]\n",
    "        t2 = torch.vstack([self.entity_mat.weight[corrupted_heads],\n",
    "                           self.entity_mat.weight[corrupted_tails]])\n",
    "        rel = self.relation_mat.weight[labels].repeat(2,1)\n",
    "\n",
    "        # normalize entity (maybe unnecessary here)\n",
    "        #t1 = F.normalize(t1, p=self.p_norm, dim=-1)\n",
    "        #t2 = F.normalize(t2, p=self.p_norm, dim=-1)\n",
    "\n",
    "        # compute the loss value\n",
    "        pos = torch.norm(t1[:,0,:] + rel - t1[:,1,:], dim=-1, p=self.p_norm)\n",
    "        neg = torch.norm(t2[:,0,:] + rel - t2[:,1,:], dim=-1, p=self.p_norm)\n",
    "        loss = torch.clip((self.margin + pos - neg), min=0).sum()\n",
    "\n",
    "        return loss\n",
    "\n",
    "    def evaluation_protocol(self, batch):\n",
    "        edge_list, labels = batch\n",
    "        batch_size = edge_list.shape[0]\n",
    "\n",
    "        # combine heads, tails and labels\n",
    "        triplets = torch.hstack([edge_list, labels.reshape(-1,1)])\n",
    "\n",
    "        # repeat all triplets for n_entities times\n",
    "        triplets = triplets[:,np.newaxis,:].repeat(1,self.num_entities,1)\n",
    "\n",
    "        true_pos_total = list()\n",
    "        rank_pos_list = list()\n",
    "\n",
    "        # repeat corruption for both head and tail\n",
    "        for pos in [0,1]:\n",
    "            x = triplets.detach().clone()\n",
    "            \n",
    "            # replace all heads/tails with list of all possible entities\n",
    "            x[:,:,pos] = torch.tensor(range(self.num_entities))[np.newaxis,:].repeat(batch_size,1).to(self.device)\n",
    "\n",
    "            # triplets are arranged as (head, tail, label)\n",
    "            head = self.entity_mat.weight[x[:,:,0]]\n",
    "            tail = self.entity_mat.weight[x[:,:,1]]\n",
    "            rel = self.relation_mat.weight[x[:,:,2]]\n",
    "\n",
    "            # compute distance between head + label and tail\n",
    "            norms = torch.norm(head + rel - tail, dim=-1, p=self.p_norm)\n",
    "\n",
    "            # get index positions of sorted norms for each triplet\n",
    "            rankings = torch.vstack([torch.argsort(x) for x in norms.unbind(dim=0)])\n",
    "\n",
    "            # find position of heads within the rankings\n",
    "            torch.save(rankings, \"rankings.pt\")\n",
    "            torch.save(edge_list, \"edge_list.pt\")\n",
    "            rank_pos = torch.where(rankings == edge_list[:,pos].reshape(-1,1))[1]\n",
    "\n",
    "            rank_pos_list.append(rank_pos)\n",
    "            true_pos_total.append(rank_pos < 10)\n",
    "\n",
    "        mean_rank = torch.vstack(rank_pos_list).float().mean()\n",
    "        hits_at_10 = torch.vstack(true_pos_total).float().mean()*100\n",
    "\n",
    "        return torch.vstack(rank_pos_list).flatten()\n",
    "\n",
    "    def training_step(self, batch, batch_idx):\n",
    "        return self.embedding_loss(batch)\n",
    "\n",
    "    def validation_step(self, batch, batch_idx):\n",
    "        loss = self.embedding_loss(batch)\n",
    "        batch_rankings = self.evaluation_protocol(batch)\n",
    "        self.log_dict({\"val_loss\": loss}, prog_bar=True, on_epoch=True)\n",
    "        return {\"val_loss\": loss, \"batch_rankings\": batch_rankings}\n",
    "    \n",
    "    def predict_step(self, batch, batch_idx):\n",
    "        mean_rank, hits_at_10 = self.evaluation_protocol(batch)\n",
    "        return mean_rank, hits_at_10\n",
    "\n",
    "    def on_train_epoch_end(self):\n",
    "        with torch.no_grad():\n",
    "             # keep entities embeddings normalized\n",
    "            self.entity_mat.weight.copy_(F.normalize(self.entity_mat.weight, p=2, dim=1))\n",
    "    \n",
    "    def compute_epoch_metrics(self, outputs, stage):\n",
    "        epoch_rankings = torch.hstack([x['batch_rankings'] for x in outputs])\n",
    "        mean_rank = epoch_rankings.float().float().mean()\n",
    "        hit_at_10 = (epoch_rankings < 10).float().mean()*100\n",
    "        self.log_dict({f\"{stage}_mean_rank\": mean_rank, f\"{stage}_hits@10\": hit_at_10},\n",
    "                      prog_bar=True, on_epoch=True)\n",
    "    \n",
    "    def validation_epoch_end(self, outputs):\n",
    "        self.compute_epoch_metrics(outputs, stage=\"val\")\n",
    "\n",
    "    def predict_epoch_end(self, outputs):\n",
    "        self.compute_epoch_metrics(outputs, stage=\"predict\")\n",
    "\n",
    "    def configure_optimizers(self):\n",
    "        return torch.optim.Adam(self.parameters(), lr=self.learning_rate)\n",
    "        "
   ]
  },
  {
   "cell_type": "code",
   "execution_count": 6,
   "metadata": {},
   "outputs": [],
   "source": [
    "def train_transe(config,\n",
    "                 max_epochs=100,\n",
    "                 accelerator='gpu',\n",
    "                 num_best_ckpt=3,\n",
    "                 patience=10,\n",
    "                 min_delta=0.5,\n",
    "                 main_path='./'):\n",
    "    \n",
    "    model = TransE(emb_dim=config['emb_dim'],\n",
    "                learning_rate=config['lr'],\n",
    "                margin=config['margin'],\n",
    "                p_norm=config['p_norm'])\n",
    "\n",
    "    dm = WordNetDataModule(batch_size=config['batch_size'], path=os.path.join(main_path, \"WordNet18RR/raw\"))\n",
    "\n",
    "    dir_path = f\"checkpoints/emb_dim={config['emb_dim']}-lr={config['lr']}-margin={config['margin']}-p_norm={config['p_norm']}\"\n",
    "    dir_path = os.path.join(main_path, dir_path)\n",
    "\n",
    "    # using mean predicted rank on validation set as described in section 4.2\n",
    "    early_stop_rank = EarlyStopping(monitor=\"val_mean_rank\",\n",
    "                                    min_delta=min_delta,\n",
    "                                    patience=patience,\n",
    "                                    verbose=False,\n",
    "                                    mode=\"min\")\n",
    "\n",
    "    # save best models based on mean rank on validation set\n",
    "    checkpoint_callback = ModelCheckpoint(save_top_k=num_best_ckpt,\n",
    "                                        monitor=\"val_mean_rank\",\n",
    "                                        dirpath=dir_path,\n",
    "                                        filename=\"transe-wordnet-{epoch}-{val_mean_rank:.0f}-{val_hits@10:.1f}\")\n",
    "\n",
    "    metrics = {\"loss\": \"val_loss\", \"mean_rank\": \"val_mean_rank\"}\n",
    "\n",
    "    logger = TensorBoardLogger('tb_logs', name='TransE')\n",
    "\n",
    "    trainer = pl.Trainer(max_epochs=max_epochs,\n",
    "                        accelerator=accelerator,\n",
    "                        callbacks=[checkpoint_callback, early_stop_rank],\n",
    "                        logger=logger)\n",
    "\n",
    "    try:\n",
    "        # resume from best model if checkpoint is available\n",
    "        ckpt_path = os.path.join(dir_path, os.listdir(dir_path)[-1])\n",
    "    except:\n",
    "        ckpt_path = None\n",
    "\n",
    "    trainer.fit(model, datamodule=dm, ckpt_path=ckpt_path)\n"
   ]
  },
  {
   "attachments": {},
   "cell_type": "markdown",
   "metadata": {},
   "source": [
    "### Parameters search"
   ]
  },
  {
   "cell_type": "code",
   "execution_count": 10,
   "metadata": {},
   "outputs": [
    {
     "name": "stderr",
     "output_type": "stream",
     "text": [
      "GPU available: True (cuda), used: True\n",
      "TPU available: False, using: 0 TPU cores\n",
      "IPU available: False, using: 0 IPUs\n",
      "HPU available: False, using: 0 HPUs\n"
     ]
    },
    {
     "name": "stdout",
     "output_type": "stream",
     "text": [
      "c:\\Users\\Uni\\Desktop\\TransE\n"
     ]
    },
    {
     "name": "stderr",
     "output_type": "stream",
     "text": [
      "C:\\Users\\Uni\\AppData\\Roaming\\Python\\Python39\\site-packages\\pytorch_lightning\\callbacks\\model_checkpoint.py:613: UserWarning: Checkpoint directory C:\\Users\\Uni\\Desktop\\TransE\\checkpoints\\emb_dim=30-lr=0.001-margin=1-p_norm=2 exists and is not empty.\n",
      "  rank_zero_warn(f\"Checkpoint directory {dirpath} exists and is not empty.\")\n",
      "Restoring states from the checkpoint path at ./checkpoints/emb_dim=30-lr=0.001-margin=1-p_norm=2\\transe-wordnet-epoch=99-val_mean_rank=2500-val_hits@10=39.5.ckpt\n",
      "LOCAL_RANK: 0 - CUDA_VISIBLE_DEVICES: [0]\n",
      "\n",
      "  | Name         | Type      | Params\n",
      "-------------------------------------------\n",
      "0 | entity_mat   | Embedding | 1.2 M \n",
      "1 | relation_mat | Embedding | 330   \n",
      "-------------------------------------------\n",
      "1.2 M     Trainable params\n",
      "0         Non-trainable params\n",
      "1.2 M     Total params\n",
      "4.914     Total estimated model params size (MB)\n",
      "GPU available: True (cuda), used: True\n",
      "TPU available: False, using: 0 TPU cores\n",
      "IPU available: False, using: 0 IPUs\n",
      "HPU available: False, using: 0 HPUs\n"
     ]
    },
    {
     "name": "stdout",
     "output_type": "stream",
     "text": [
      "c:\\Users\\Uni\\Desktop\\TransE\n"
     ]
    },
    {
     "name": "stderr",
     "output_type": "stream",
     "text": [
      "LOCAL_RANK: 0 - CUDA_VISIBLE_DEVICES: [0]\n",
      "\n",
      "  | Name         | Type      | Params\n",
      "-------------------------------------------\n",
      "0 | entity_mat   | Embedding | 1.2 M \n",
      "1 | relation_mat | Embedding | 330   \n",
      "-------------------------------------------\n",
      "1.2 M     Trainable params\n",
      "0         Non-trainable params\n",
      "1.2 M     Total params\n",
      "4.914     Total estimated model params size (MB)\n"
     ]
    },
    {
     "name": "stdout",
     "output_type": "stream",
     "text": [
      "Sanity Checking DataLoader 0:   0%|          | 0/2 [00:00<?, ?it/s]"
     ]
    },
    {
     "name": "stderr",
     "output_type": "stream",
     "text": [
      "C:\\Users\\Uni\\AppData\\Roaming\\Python\\Python39\\site-packages\\pytorch_lightning\\trainer\\connectors\\data_connector.py:224: PossibleUserWarning: The dataloader, val_dataloader 0, does not have many workers which may be a bottleneck. Consider increasing the value of the `num_workers` argument` (try 6 which is the number of cpus on this machine) in the `DataLoader` init to improve performance.\n",
      "  rank_zero_warn(\n"
     ]
    },
    {
     "name": "stdout",
     "output_type": "stream",
     "text": [
      "                                                                           "
     ]
    },
    {
     "name": "stderr",
     "output_type": "stream",
     "text": [
      "C:\\Users\\Uni\\AppData\\Roaming\\Python\\Python39\\site-packages\\pytorch_lightning\\trainer\\connectors\\data_connector.py:224: PossibleUserWarning: The dataloader, train_dataloader, does not have many workers which may be a bottleneck. Consider increasing the value of the `num_workers` argument` (try 6 which is the number of cpus on this machine) in the `DataLoader` init to improve performance.\n",
      "  rank_zero_warn(\n"
     ]
    },
    {
     "name": "stdout",
     "output_type": "stream",
     "text": [
      "Epoch 49: 100%|██████████| 1405/1405 [00:26<00:00, 53.05it/s, loss=91, v_num=55, val_loss=133.0, val_mean_rank=3.56e+3, val_hits@10=36.90]  "
     ]
    },
    {
     "name": "stderr",
     "output_type": "stream",
     "text": [
      "`Trainer.fit` stopped: `max_epochs=50` reached.\n"
     ]
    },
    {
     "name": "stdout",
     "output_type": "stream",
     "text": [
      "Epoch 49: 100%|██████████| 1405/1405 [00:26<00:00, 52.96it/s, loss=91, v_num=55, val_loss=133.0, val_mean_rank=3.56e+3, val_hits@10=36.90]\n"
     ]
    },
    {
     "name": "stderr",
     "output_type": "stream",
     "text": [
      "GPU available: True (cuda), used: True\n",
      "TPU available: False, using: 0 TPU cores\n",
      "IPU available: False, using: 0 IPUs\n",
      "HPU available: False, using: 0 HPUs\n"
     ]
    },
    {
     "name": "stdout",
     "output_type": "stream",
     "text": [
      "c:\\Users\\Uni\\Desktop\\TransE\n"
     ]
    },
    {
     "name": "stderr",
     "output_type": "stream",
     "text": [
      "LOCAL_RANK: 0 - CUDA_VISIBLE_DEVICES: [0]\n",
      "\n",
      "  | Name         | Type      | Params\n",
      "-------------------------------------------\n",
      "0 | entity_mat   | Embedding | 1.2 M \n",
      "1 | relation_mat | Embedding | 330   \n",
      "-------------------------------------------\n",
      "1.2 M     Trainable params\n",
      "0         Non-trainable params\n",
      "1.2 M     Total params\n",
      "4.914     Total estimated model params size (MB)\n"
     ]
    },
    {
     "name": "stdout",
     "output_type": "stream",
     "text": [
      "Epoch 49: 100%|██████████| 1405/1405 [00:27<00:00, 51.87it/s, loss=1.11e+03, v_num=56, val_loss=1.15e+3, val_mean_rank=3.6e+3, val_hits@10=36.20] "
     ]
    },
    {
     "name": "stderr",
     "output_type": "stream",
     "text": [
      "`Trainer.fit` stopped: `max_epochs=50` reached.\n"
     ]
    },
    {
     "name": "stdout",
     "output_type": "stream",
     "text": [
      "Epoch 49: 100%|██████████| 1405/1405 [00:27<00:00, 51.79it/s, loss=1.11e+03, v_num=56, val_loss=1.15e+3, val_mean_rank=3.6e+3, val_hits@10=36.20]\n"
     ]
    },
    {
     "name": "stderr",
     "output_type": "stream",
     "text": [
      "GPU available: True (cuda), used: True\n",
      "TPU available: False, using: 0 TPU cores\n",
      "IPU available: False, using: 0 IPUs\n",
      "HPU available: False, using: 0 HPUs\n"
     ]
    },
    {
     "name": "stdout",
     "output_type": "stream",
     "text": [
      "c:\\Users\\Uni\\Desktop\\TransE\n"
     ]
    },
    {
     "name": "stderr",
     "output_type": "stream",
     "text": [
      "LOCAL_RANK: 0 - CUDA_VISIBLE_DEVICES: [0]\n",
      "\n",
      "  | Name         | Type      | Params\n",
      "-------------------------------------------\n",
      "0 | entity_mat   | Embedding | 1.6 M \n",
      "1 | relation_mat | Embedding | 440   \n",
      "-------------------------------------------\n",
      "1.6 M     Trainable params\n",
      "0         Non-trainable params\n",
      "1.6 M     Total params\n",
      "6.553     Total estimated model params size (MB)\n"
     ]
    },
    {
     "name": "stdout",
     "output_type": "stream",
     "text": [
      "Epoch 49: 100%|██████████| 1405/1405 [00:27<00:00, 50.67it/s, loss=7.85, v_num=57, val_loss=37.20, val_mean_rank=2.86e+3, val_hits@10=41.40]"
     ]
    },
    {
     "name": "stderr",
     "output_type": "stream",
     "text": [
      "`Trainer.fit` stopped: `max_epochs=50` reached.\n"
     ]
    },
    {
     "name": "stdout",
     "output_type": "stream",
     "text": [
      "Epoch 49: 100%|██████████| 1405/1405 [00:27<00:00, 50.55it/s, loss=7.85, v_num=57, val_loss=37.20, val_mean_rank=2.86e+3, val_hits@10=41.40]\n"
     ]
    },
    {
     "name": "stderr",
     "output_type": "stream",
     "text": [
      "GPU available: True (cuda), used: True\n",
      "TPU available: False, using: 0 TPU cores\n",
      "IPU available: False, using: 0 IPUs\n",
      "HPU available: False, using: 0 HPUs\n"
     ]
    },
    {
     "name": "stdout",
     "output_type": "stream",
     "text": [
      "c:\\Users\\Uni\\Desktop\\TransE\n"
     ]
    },
    {
     "name": "stderr",
     "output_type": "stream",
     "text": [
      "LOCAL_RANK: 0 - CUDA_VISIBLE_DEVICES: [0]\n",
      "\n",
      "  | Name         | Type      | Params\n",
      "-------------------------------------------\n",
      "0 | entity_mat   | Embedding | 1.6 M \n",
      "1 | relation_mat | Embedding | 440   \n",
      "-------------------------------------------\n",
      "1.6 M     Trainable params\n",
      "0         Non-trainable params\n",
      "1.6 M     Total params\n",
      "6.553     Total estimated model params size (MB)\n"
     ]
    },
    {
     "name": "stdout",
     "output_type": "stream",
     "text": [
      "Epoch 49: 100%|██████████| 1405/1405 [00:27<00:00, 51.72it/s, loss=86.4, v_num=58, val_loss=126.0, val_mean_rank=3.31e+3, val_hits@10=37.40]"
     ]
    },
    {
     "name": "stderr",
     "output_type": "stream",
     "text": [
      "`Trainer.fit` stopped: `max_epochs=50` reached.\n"
     ]
    },
    {
     "name": "stdout",
     "output_type": "stream",
     "text": [
      "Epoch 49: 100%|██████████| 1405/1405 [00:27<00:00, 51.60it/s, loss=86.4, v_num=58, val_loss=126.0, val_mean_rank=3.31e+3, val_hits@10=37.40]\n"
     ]
    },
    {
     "name": "stderr",
     "output_type": "stream",
     "text": [
      "GPU available: True (cuda), used: True\n",
      "TPU available: False, using: 0 TPU cores\n",
      "IPU available: False, using: 0 IPUs\n",
      "HPU available: False, using: 0 HPUs\n"
     ]
    },
    {
     "name": "stdout",
     "output_type": "stream",
     "text": [
      "c:\\Users\\Uni\\Desktop\\TransE\n"
     ]
    },
    {
     "name": "stderr",
     "output_type": "stream",
     "text": [
      "LOCAL_RANK: 0 - CUDA_VISIBLE_DEVICES: [0]\n",
      "\n",
      "  | Name         | Type      | Params\n",
      "-------------------------------------------\n",
      "0 | entity_mat   | Embedding | 1.6 M \n",
      "1 | relation_mat | Embedding | 440   \n",
      "-------------------------------------------\n",
      "1.6 M     Trainable params\n",
      "0         Non-trainable params\n",
      "1.6 M     Total params\n",
      "6.553     Total estimated model params size (MB)\n"
     ]
    },
    {
     "name": "stdout",
     "output_type": "stream",
     "text": [
      "Epoch 49: 100%|██████████| 1405/1405 [00:27<00:00, 52.03it/s, loss=1.1e+03, v_num=59, val_loss=1.14e+3, val_mean_rank=3.41e+3, val_hits@10=36.50] "
     ]
    },
    {
     "name": "stderr",
     "output_type": "stream",
     "text": [
      "`Trainer.fit` stopped: `max_epochs=50` reached.\n"
     ]
    },
    {
     "name": "stdout",
     "output_type": "stream",
     "text": [
      "Epoch 49: 100%|██████████| 1405/1405 [00:27<00:00, 51.91it/s, loss=1.1e+03, v_num=59, val_loss=1.14e+3, val_mean_rank=3.41e+3, val_hits@10=36.50]\n"
     ]
    },
    {
     "name": "stderr",
     "output_type": "stream",
     "text": [
      "GPU available: True (cuda), used: True\n",
      "TPU available: False, using: 0 TPU cores\n",
      "IPU available: False, using: 0 IPUs\n",
      "HPU available: False, using: 0 HPUs\n"
     ]
    },
    {
     "name": "stdout",
     "output_type": "stream",
     "text": [
      "c:\\Users\\Uni\\Desktop\\TransE\n"
     ]
    },
    {
     "name": "stderr",
     "output_type": "stream",
     "text": [
      "LOCAL_RANK: 0 - CUDA_VISIBLE_DEVICES: [0]\n",
      "\n",
      "  | Name         | Type      | Params\n",
      "-------------------------------------------\n",
      "0 | entity_mat   | Embedding | 1.2 M \n",
      "1 | relation_mat | Embedding | 330   \n",
      "-------------------------------------------\n",
      "1.2 M     Trainable params\n",
      "0         Non-trainable params\n",
      "1.2 M     Total params\n",
      "4.914     Total estimated model params size (MB)\n"
     ]
    },
    {
     "name": "stdout",
     "output_type": "stream",
     "text": [
      "Epoch 49: 100%|██████████| 1405/1405 [00:25<00:00, 54.66it/s, loss=8.15, v_num=60, val_loss=28.90, val_mean_rank=2.85e+3, val_hits@10=32.70]"
     ]
    },
    {
     "name": "stderr",
     "output_type": "stream",
     "text": [
      "`Trainer.fit` stopped: `max_epochs=50` reached.\n"
     ]
    },
    {
     "name": "stdout",
     "output_type": "stream",
     "text": [
      "Epoch 49: 100%|██████████| 1405/1405 [00:25<00:00, 54.57it/s, loss=8.15, v_num=60, val_loss=28.90, val_mean_rank=2.85e+3, val_hits@10=32.70]\n",
      "c:\\Users\\Uni\\Desktop\\TransE\n"
     ]
    },
    {
     "name": "stderr",
     "output_type": "stream",
     "text": [
      "GPU available: True (cuda), used: True\n",
      "TPU available: False, using: 0 TPU cores\n",
      "IPU available: False, using: 0 IPUs\n",
      "HPU available: False, using: 0 HPUs\n",
      "LOCAL_RANK: 0 - CUDA_VISIBLE_DEVICES: [0]\n",
      "\n",
      "  | Name         | Type      | Params\n",
      "-------------------------------------------\n",
      "0 | entity_mat   | Embedding | 1.2 M \n",
      "1 | relation_mat | Embedding | 330   \n",
      "-------------------------------------------\n",
      "1.2 M     Trainable params\n",
      "0         Non-trainable params\n",
      "1.2 M     Total params\n",
      "4.914     Total estimated model params size (MB)\n"
     ]
    },
    {
     "name": "stdout",
     "output_type": "stream",
     "text": [
      "Epoch 49: 100%|██████████| 1405/1405 [00:25<00:00, 54.77it/s, loss=41.4, v_num=61, val_loss=75.90, val_mean_rank=2.76e+3, val_hits@10=31.70]"
     ]
    },
    {
     "name": "stderr",
     "output_type": "stream",
     "text": [
      "`Trainer.fit` stopped: `max_epochs=50` reached.\n"
     ]
    },
    {
     "name": "stdout",
     "output_type": "stream",
     "text": [
      "Epoch 49: 100%|██████████| 1405/1405 [00:25<00:00, 54.68it/s, loss=41.4, v_num=61, val_loss=75.90, val_mean_rank=2.76e+3, val_hits@10=31.70]\n",
      "c:\\Users\\Uni\\Desktop\\TransE\n"
     ]
    },
    {
     "name": "stderr",
     "output_type": "stream",
     "text": [
      "GPU available: True (cuda), used: True\n",
      "TPU available: False, using: 0 TPU cores\n",
      "IPU available: False, using: 0 IPUs\n",
      "HPU available: False, using: 0 HPUs\n",
      "LOCAL_RANK: 0 - CUDA_VISIBLE_DEVICES: [0]\n",
      "\n",
      "  | Name         | Type      | Params\n",
      "-------------------------------------------\n",
      "0 | entity_mat   | Embedding | 1.2 M \n",
      "1 | relation_mat | Embedding | 330   \n",
      "-------------------------------------------\n",
      "1.2 M     Trainable params\n",
      "0         Non-trainable params\n",
      "1.2 M     Total params\n",
      "4.914     Total estimated model params size (MB)\n"
     ]
    },
    {
     "name": "stdout",
     "output_type": "stream",
     "text": [
      "Epoch 49: 100%|██████████| 1405/1405 [00:27<00:00, 51.09it/s, loss=1.01e+03, v_num=62, val_loss=1.06e+3, val_mean_rank=8.23e+3, val_hits@10=24.20]"
     ]
    },
    {
     "name": "stderr",
     "output_type": "stream",
     "text": [
      "`Trainer.fit` stopped: `max_epochs=50` reached.\n"
     ]
    },
    {
     "name": "stdout",
     "output_type": "stream",
     "text": [
      "Epoch 49: 100%|██████████| 1405/1405 [00:27<00:00, 51.09it/s, loss=1.01e+03, v_num=62, val_loss=1.06e+3, val_mean_rank=8.23e+3, val_hits@10=24.20]"
     ]
    },
    {
     "name": "stderr",
     "output_type": "stream",
     "text": [
      "GPU available: True (cuda), used: True\n",
      "TPU available: False, using: 0 TPU cores\n",
      "IPU available: False, using: 0 IPUs\n",
      "HPU available: False, using: 0 HPUs\n"
     ]
    },
    {
     "name": "stdout",
     "output_type": "stream",
     "text": [
      "\n",
      "c:\\Users\\Uni\\Desktop\\TransE\n"
     ]
    },
    {
     "name": "stderr",
     "output_type": "stream",
     "text": [
      "LOCAL_RANK: 0 - CUDA_VISIBLE_DEVICES: [0]\n",
      "\n",
      "  | Name         | Type      | Params\n",
      "-------------------------------------------\n",
      "0 | entity_mat   | Embedding | 1.6 M \n",
      "1 | relation_mat | Embedding | 440   \n",
      "-------------------------------------------\n",
      "1.6 M     Trainable params\n",
      "0         Non-trainable params\n",
      "1.6 M     Total params\n",
      "6.553     Total estimated model params size (MB)\n"
     ]
    },
    {
     "name": "stdout",
     "output_type": "stream",
     "text": [
      "Epoch 47: 100%|██████████| 1405/1405 [00:27<00:00, 51.51it/s, loss=7.14, v_num=63, val_loss=28.80, val_mean_rank=2.83e+3, val_hits@10=33.60]"
     ]
    },
    {
     "name": "stderr",
     "output_type": "stream",
     "text": [
      "GPU available: True (cuda), used: True\n",
      "TPU available: False, using: 0 TPU cores\n",
      "IPU available: False, using: 0 IPUs\n",
      "HPU available: False, using: 0 HPUs\n"
     ]
    },
    {
     "name": "stdout",
     "output_type": "stream",
     "text": [
      "\n",
      "c:\\Users\\Uni\\Desktop\\TransE\n"
     ]
    },
    {
     "name": "stderr",
     "output_type": "stream",
     "text": [
      "LOCAL_RANK: 0 - CUDA_VISIBLE_DEVICES: [0]\n",
      "\n",
      "  | Name         | Type      | Params\n",
      "-------------------------------------------\n",
      "0 | entity_mat   | Embedding | 1.6 M \n",
      "1 | relation_mat | Embedding | 440   \n",
      "-------------------------------------------\n",
      "1.6 M     Trainable params\n",
      "0         Non-trainable params\n",
      "1.6 M     Total params\n",
      "6.553     Total estimated model params size (MB)\n"
     ]
    },
    {
     "name": "stdout",
     "output_type": "stream",
     "text": [
      "Epoch 49: 100%|██████████| 1405/1405 [00:27<00:00, 51.90it/s, loss=38.6, v_num=64, val_loss=72.00, val_mean_rank=2.7e+3, val_hits@10=32.60] "
     ]
    },
    {
     "name": "stderr",
     "output_type": "stream",
     "text": [
      "`Trainer.fit` stopped: `max_epochs=50` reached.\n"
     ]
    },
    {
     "name": "stdout",
     "output_type": "stream",
     "text": [
      "Epoch 49: 100%|██████████| 1405/1405 [00:27<00:00, 51.78it/s, loss=38.6, v_num=64, val_loss=72.00, val_mean_rank=2.7e+3, val_hits@10=32.60]\n"
     ]
    },
    {
     "name": "stderr",
     "output_type": "stream",
     "text": [
      "GPU available: True (cuda), used: True\n",
      "TPU available: False, using: 0 TPU cores\n",
      "IPU available: False, using: 0 IPUs\n",
      "HPU available: False, using: 0 HPUs\n"
     ]
    },
    {
     "name": "stdout",
     "output_type": "stream",
     "text": [
      "c:\\Users\\Uni\\Desktop\\TransE\n"
     ]
    },
    {
     "name": "stderr",
     "output_type": "stream",
     "text": [
      "LOCAL_RANK: 0 - CUDA_VISIBLE_DEVICES: [0]\n",
      "\n",
      "  | Name         | Type      | Params\n",
      "-------------------------------------------\n",
      "0 | entity_mat   | Embedding | 1.6 M \n",
      "1 | relation_mat | Embedding | 440   \n",
      "-------------------------------------------\n",
      "1.6 M     Trainable params\n",
      "0         Non-trainable params\n",
      "1.6 M     Total params\n",
      "6.553     Total estimated model params size (MB)\n"
     ]
    },
    {
     "name": "stdout",
     "output_type": "stream",
     "text": [
      "Epoch 46: 100%|██████████| 1405/1405 [00:31<00:00, 44.37it/s, loss=1.01e+03, v_num=65, val_loss=1.05e+3, val_mean_rank=8.41e+3, val_hits@10=23.10]\n"
     ]
    }
   ],
   "source": [
    "config = {\n",
    "    \"batch_size\": [64],\n",
    "    \"lr\": [0.001, 0.005],\n",
    "    \"emb_dim\": [30, 40],\n",
    "    \"p_norm\": [2],\n",
    "    \"margin\": [1, 2, 10]\n",
    "}\n",
    "\n",
    "import itertools\n",
    "\n",
    "keys, values = zip(*config.items())\n",
    "comb_list = [dict(zip(keys,v)) for v in itertools.product(*values)]\n",
    "\n",
    "for comb in comb_list:\n",
    "    try:\n",
    "        train_transe(config=comb, max_epochs=50)\n",
    "    except:\n",
    "        pass"
   ]
  },
  {
   "attachments": {},
   "cell_type": "markdown",
   "metadata": {},
   "source": [
    "### Single Training"
   ]
  },
  {
   "cell_type": "code",
   "execution_count": 8,
   "metadata": {},
   "outputs": [
    {
     "name": "stderr",
     "output_type": "stream",
     "text": [
      "GPU available: True (cuda), used: True\n",
      "TPU available: False, using: 0 TPU cores\n",
      "IPU available: False, using: 0 IPUs\n",
      "HPU available: False, using: 0 HPUs\n"
     ]
    },
    {
     "name": "stdout",
     "output_type": "stream",
     "text": [
      "c:\\Users\\Uni\\Desktop\\TransE\n"
     ]
    },
    {
     "name": "stderr",
     "output_type": "stream",
     "text": [
      "LOCAL_RANK: 0 - CUDA_VISIBLE_DEVICES: [0]\n",
      "\n",
      "  | Name         | Type      | Params\n",
      "-------------------------------------------\n",
      "0 | entity_mat   | Embedding | 1.2 M \n",
      "1 | relation_mat | Embedding | 330   \n",
      "-------------------------------------------\n",
      "1.2 M     Trainable params\n",
      "0         Non-trainable params\n",
      "1.2 M     Total params\n",
      "4.914     Total estimated model params size (MB)\n"
     ]
    },
    {
     "name": "stdout",
     "output_type": "stream",
     "text": [
      "Epoch 99: 100%|██████████| 1405/1405 [00:28<00:00, 48.93it/s, loss=6.99, v_num=52, val_loss=34.00, val_mean_rank=2.5e+3, val_hits@10=39.50] "
     ]
    },
    {
     "name": "stderr",
     "output_type": "stream",
     "text": [
      "`Trainer.fit` stopped: `max_epochs=100` reached.\n"
     ]
    },
    {
     "name": "stdout",
     "output_type": "stream",
     "text": [
      "Epoch 99: 100%|██████████| 1405/1405 [00:28<00:00, 48.86it/s, loss=6.99, v_num=52, val_loss=34.00, val_mean_rank=2.5e+3, val_hits@10=39.50]\n"
     ]
    }
   ],
   "source": [
    "single_train_config = {\n",
    "    'batch_size': 64,\n",
    "    'lr': 0.001,\n",
    "    'emb_dim': 30,\n",
    "    'p_norm': 2,\n",
    "    'margin': 1\n",
    "}\n",
    "\n",
    "train_transe(config=single_train_config)"
   ]
  },
  {
   "attachments": {},
   "cell_type": "markdown",
   "metadata": {},
   "source": [
    "### Prediction"
   ]
  },
  {
   "cell_type": "code",
   "execution_count": 47,
   "metadata": {},
   "outputs": [
    {
     "name": "stderr",
     "output_type": "stream",
     "text": [
      "Restoring states from the checkpoint path at checkpoints/emb_dim=20-lr=0.01-margin=1-p_norm=2\\transe-wordnet-epoch=0-val_mean_rank=20402-val_hits@10=0.0.ckpt\n",
      "LOCAL_RANK: 0 - CUDA_VISIBLE_DEVICES: [0]\n",
      "Loaded model weights from checkpoint at checkpoints/emb_dim=20-lr=0.01-margin=1-p_norm=2\\transe-wordnet-epoch=0-val_mean_rank=20402-val_hits@10=0.0.ckpt\n",
      "C:\\Users\\Uni\\AppData\\Roaming\\Python\\Python39\\site-packages\\pytorch_lightning\\trainer\\connectors\\data_connector.py:224: PossibleUserWarning: The dataloader, predict_dataloader 0, does not have many workers which may be a bottleneck. Consider increasing the value of the `num_workers` argument` (try 6 which is the number of cpus on this machine) in the `DataLoader` init to improve performance.\n",
      "  rank_zero_warn(\n"
     ]
    },
    {
     "name": "stdout",
     "output_type": "stream",
     "text": [
      "Predicting DataLoader 0: 100%|██████████| 98/98 [00:06<00:00, 14.84it/s]\n",
      "test_mean_rank=20634, test_hits@10=0.03\n"
     ]
    }
   ],
   "source": [
    "pred = trainer.predict(model, datamodule=dm, ckpt_path=ckpt_path)\n",
    "test_mean_rank, test_hits_at_10 = torch.tensor(pred).mean(0)\n",
    "print(\"\\n\")\n",
    "print(f\"test_mean_rank={test_mean_rank:.0f}, test_hits@10={test_hits_at_10:.2f}%\")"
   ]
  },
  {
   "attachments": {},
   "cell_type": "markdown",
   "metadata": {},
   "source": [
    "### Old training cell"
   ]
  },
  {
   "cell_type": "code",
   "execution_count": null,
   "metadata": {},
   "outputs": [],
   "source": [
    "emb_dim = 20\n",
    "lr = 0.01\n",
    "margin = 1\n",
    "max_epochs = 1000\n",
    "top_k_cp = 3\n",
    "p_norm = 2   # norm either L1 or L2\n",
    "\n",
    "# instantiated model and data module\n",
    "model = TransE(emb_dim=emb_dim,\n",
    "               learning_rate=lr,\n",
    "               margin=margin,\n",
    "               p_norm=p_norm)\n",
    "\n",
    "dm = WordNetDataModule(batch_size=32)\n",
    "\n",
    "dir_path = f\"checkpoints/emb_dim={emb_dim}-lr={lr}-margin={margin}-p_norm={p_norm}\"\n",
    "\n",
    "# using mean predicted rank on validation set as described in section 4.2\n",
    "early_stop_rank = EarlyStopping(monitor=\"val_mean_rank\",\n",
    "                                min_delta=0.5,\n",
    "                                patience=10,\n",
    "                                verbose=False,\n",
    "                                mode=\"min\")\n",
    "\n",
    "# save best models based on mean rank on validation set\n",
    "checkpoint_callback = ModelCheckpoint(save_top_k=top_k_cp,\n",
    "                                      monitor=\"val_mean_rank\",\n",
    "                                      dirpath=dir_path,\n",
    "                                      filename=\"transe-wordnet-{epoch}-{val_mean_rank:.0f}-{val_hits@10:.1f}\")\n",
    "\n",
    "logger = TensorBoardLogger('tb_logs', name='TransE')\n",
    "\n",
    "trainer = pl.Trainer(max_epochs=max_epochs,\n",
    "                     accelerator='gpu',\n",
    "                     callbacks=[checkpoint_callback, early_stop_rank],\n",
    "                     logger=logger)\n",
    "\n",
    "try:\n",
    "    # resume from best model if checkpoint is available\n",
    "    ckpt_path = os.path.join(dir_path, os.listdir(dir_path)[-1])\n",
    "except:\n",
    "    ckpt_path = None\n",
    "\n",
    "trainer.fit(model, datamodule=dm, ckpt_path=ckpt_path)"
   ]
  }
 ],
 "metadata": {
  "kernelspec": {
   "display_name": "Python 3",
   "language": "python",
   "name": "python3"
  },
  "language_info": {
   "codemirror_mode": {
    "name": "ipython",
    "version": 3
   },
   "file_extension": ".py",
   "mimetype": "text/x-python",
   "name": "python",
   "nbconvert_exporter": "python",
   "pygments_lexer": "ipython3",
   "version": "3.9.7"
  },
  "orig_nbformat": 4
 },
 "nbformat": 4,
 "nbformat_minor": 2
}
