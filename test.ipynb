{
 "cells": [
  {
   "cell_type": "code",
   "execution_count": null,
   "metadata": {},
   "outputs": [],
   "source": [
    "def evaluation_protocol(self, batch):\n",
    "        edge_list, labels = batch\n",
    "        batch_size = edge_list.shape[0]\n",
    "\n",
    "        # combine heads, tails and labels\n",
    "        triplets = torch.hstack([edge_list, labels.reshape(-1,1)])\n",
    "\n",
    "        # repeat all triplets for n_entities times\n",
    "        triplets = triplets[:,np.newaxis,:].repeat(1,self.num_entities,1)\n",
    "\n",
    "        true_pos_total = list()\n",
    "        rank_pos_list = list()\n",
    "\n",
    "        # repeat corruption for both head and tail\n",
    "        for pos in [0,1]:\n",
    "            x = triplets.detach().clone()\n",
    "            \n",
    "            # replace all heads with list of all possible entities\n",
    "            x[:,:,pos] = torch.tensor(range(self.num_entities))[np.newaxis,:].repeat(batch_size,1).to(self.device)\n",
    "\n",
    "            # triplets are arranged as (head, tail, label)\n",
    "            head = self.entity_mat.weight[x[:,:,0]]\n",
    "            tail = self.entity_mat.weight[x[:,:,1]]\n",
    "            rel = self.relation_mat.weight[x[:,:,2]]\n",
    "\n",
    "            print(x[:,:,1])\n",
    "\n",
    "            # compute triplet score\n",
    "            norms = torch.norm(head + rel - tail, dim=2, p=self.p_norm)\n",
    "            print(norms[0,:5])\n",
    "            \n",
    "            # get index positions of sorted norms for each triplet\n",
    "            rankings = torch.vstack([torch.argsort(x) for x in norms.unbind(dim=0)])\n",
    "            print(rankings[0,:5])\n",
    "\n",
    "            #print(torch.vstack([torch.sort(x)[0] for x in norms.unbind(dim=0)])[0])\n",
    "\n",
    "            # find position of heads within the rankings\n",
    "            rank_pos = torch.where(rankings == edge_list[:,pos].reshape(-1,1))[1]\n",
    "\n",
    "            rank_pos_list.append(rank_pos)\n",
    "            true_pos_total.append(rank_pos < 10)\n",
    "\n",
    "        mean_rank = torch.vstack(rank_pos_list)#.float().mean()\n",
    "        hits_at_10 = torch.vstack(true_pos_total)#.float().mean()*100\n",
    "\n",
    "        return mean_rank, hits_at_10"
   ]
  },
  {
   "cell_type": "code",
   "execution_count": null,
   "metadata": {},
   "outputs": [],
   "source": [
    "x = next(iter(dm.train_dataloader()))\n",
    "_ = evaluation_protocol(model, x)\n",
    "\n",
    "edge = (2, 11329, 1)\n",
    "head = model.entity_mat.weight[edge[0]]\n",
    "tail = model.entity_mat.weight[edge[1]]\n",
    "label = model.relation_mat.weight[edge[2]]\n",
    "torch.norm(head + label - tail, p=model.p_norm, dim=-1)"
   ]
  }
 ],
 "metadata": {
  "language_info": {
   "name": "python"
  },
  "orig_nbformat": 4
 },
 "nbformat": 4,
 "nbformat_minor": 2
}
